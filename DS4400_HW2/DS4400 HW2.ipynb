{
 "cells": [
  {
   "cell_type": "markdown",
   "metadata": {},
   "source": [
    "# DS 4400 HW2\n",
    "\n",
    "Christopher Dilger\n",
    "\n",
    "Output:\n",
    "DILGER_HW2.pdf\n",
    "\n",
    "## Problem 1 [Logistic Regression]\n",
    "\n"
   ]
  },
  {
   "cell_type": "code",
   "execution_count": 111,
   "metadata": {},
   "outputs": [
    {
     "data": {
      "text/plain": [
       "array([[652,  44],\n",
       "       [ 49, 405]], dtype=int64)"
      ]
     },
     "metadata": {},
     "output_type": "display_data"
    },
    {
     "name": "stdout",
     "output_type": "stream",
     "text": [
      "True Positives: 405\n",
      "False Positives: 44\n",
      "False Negatives: 49\n",
      "True Negatives: 405\n"
     ]
    },
    {
     "data": {
      "text/latex": [
       "$$Precision = 0.9020\\\\ Recall = 0.8920704845814978 \\\\ Accuracy = 0.9191304347826087 \\\\ F_1 = 162218.5572687225 \\\\ \\epsilon= 0.0808695652173913$$"
      ],
      "text/plain": [
       "<IPython.core.display.Math object>"
      ]
     },
     "metadata": {},
     "output_type": "display_data"
    }
   ],
   "source": [
    "import pandas as pd\n",
    "import numpy as np\n",
    "import sklearn as sk\n",
    "from sklearn.linear_model import LogisticRegression\n",
    "from sklearn.metrics import confusion_matrix\n",
    "from IPython.display import display, Math\n",
    "\n",
    "#Read in data using the pandasreader\n",
    "#Use pandas dataframe manipulation to sample 75% training and 25% testing\n",
    "\n",
    "headers = []\n",
    "with open('headers.txt') as f:\n",
    "    for line in f:\n",
    "        headers.append(line.split(' ')[0])\n",
    "    \n",
    "df = pd.read_csv('spambase.txt', header=None, names = headers, index_col = False)\n",
    "\n",
    "train=df.sample(frac=0.75,random_state=200)\n",
    "test = df.drop(train.index)\n",
    "\n",
    "lg = LogisticRegression(solver='lbfgs')\n",
    "lg.fit(train.loc[:,[x for x in train.columns.values if x != 'spam' and x != 'predict']], \n",
    "                                                        train.loc[:,'spam'])\n",
    "test['predict'] = None\n",
    "for index in test.index:\n",
    "    predarry = np.array(test.loc[index,[x for x in train.columns.values if x != 'spam' and x != 'predict']])\n",
    "    test.loc[index,'predict'] = lg.predict(predarry.reshape(1, -1))\n",
    "\n",
    "#print(train.loc[:,'predict'])\n",
    "#print(len(val))\n",
    "#print(len(train.loc[:,[x for x in train.columns.values if x != 'spam']]))\n",
    "cm = confusion_matrix(test.loc[:,'spam'], test.loc[:,'predict'])\n",
    "display(cm)\n",
    "tn, fp, fn, tp = cm.ravel()\n",
    "\n",
    "print(\"True Positives: {}\".format(tp))\n",
    "print(\"False Positives: {}\".format(fp))\n",
    "print(\"False Negatives: {}\".format(fn))\n",
    "print(\"True Negatives: {}\".format(tp))\n",
    "\n",
    "display(Math(\"Precision = {:.4f}\\\\\\\\ Recall = {} \\\\\\\\ Accuracy = {} \\\\\\\\ F_1 = {} \\\\\\\\ \\epsilon= {}\".format(tp/(tp+fp), tp/(tp+fn), (tp+tn)/(tp+tn+fp+fn), 1/((1/tp/(tp+fp))*(1/(tp/(tp+fn)))), 1-(tp+tn)/(tp+tn+fp+fn) )))\n",
    "\n",
    "#print(lg.predict(np.array(train.loc[1,[x for x in train.columns.values if x != 'spam' and x != 'predict']]).reshape(1, -1)))"
   ]
  }
 ],
 "metadata": {
  "kernelspec": {
   "display_name": "Python 3",
   "language": "python",
   "name": "python3"
  },
  "language_info": {
   "codemirror_mode": {
    "name": "ipython",
    "version": 3
   },
   "file_extension": ".py",
   "mimetype": "text/x-python",
   "name": "python",
   "nbconvert_exporter": "python",
   "pygments_lexer": "ipython3",
   "version": "3.6.5"
  }
 },
 "nbformat": 4,
 "nbformat_minor": 2
}
